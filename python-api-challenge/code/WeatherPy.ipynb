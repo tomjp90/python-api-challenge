{
 "cells": [
  {
   "cell_type": "markdown",
   "metadata": {},
   "source": [
    "# WeatherPy\n",
    "----\n",
    "\n",
    "#### Note\n",
    "* Instructions have been included for each segment. You do not have to follow them exactly, but they are included to help you think through the steps."
   ]
  },
  {
   "cell_type": "code",
   "execution_count": 5,
   "metadata": {
    "scrolled": true
   },
   "outputs": [],
   "source": [
    "# import dependencies\n",
    "import numpy as np\n",
    "import pandas as pd\n",
    "import matplotlib.pyplot as plt\n",
    "import requests\n",
    "import gmaps\n",
    "import json\n",
    "import citipy as citipy\n",
    "from citipy import citipy\n",
    "import scipy.stats as st\n",
    "from datetime import datetime\n",
    "\n",
    "from api_keys import (weather_api_key, g_key)"
   ]
  },
  {
   "cell_type": "markdown",
   "metadata": {},
   "source": [
    "## Generate Cities List"
   ]
  },
  {
   "cell_type": "code",
   "execution_count": 15,
   "metadata": {},
   "outputs": [
    {
     "data": {
      "text/plain": [
       "list"
      ]
     },
     "execution_count": 15,
     "metadata": {},
     "output_type": "execute_result"
    }
   ],
   "source": [
    "# make tuples of lat and longitude range\n",
    "lat_range = (-90, 90)\n",
    "lng_range = (-180, 180)\n",
    "\n",
    "# make empty lists\n",
    "lat_lngs = []\n",
    "cities = []\n",
    "\n",
    "# create a set of random lat and longitudes \n",
    "lats = np.random.uniform(lat_range[0], lat_range[1], size=1500)\n",
    "lngs = np.random.uniform(lng_range[0], lng_range[1], size=1500)\n",
    "\n",
    "# combine lats and longitudes\n",
    "lat_lngs = zip(lats, lngs)\n",
    "\n",
    "# Find closest city to lat and longitudes using citipy\n",
    "for lat_lng in lat_lngs:\n",
    "    city = citipy.nearest_city(lat_lng[0], lat_lng[1]).city_name\n",
    "    \n",
    "# Only add city if not already in cities list\n",
    "    if city not in cities:\n",
    "        cities.append(city)\n",
    "\n",
    "# print the length of cities to make sure there is more than 500\n",
    "len(cities)\n",
    "\n",
    "#type(cities)\n",
    "#print(cities)"
   ]
  },
  {
   "cell_type": "code",
   "execution_count": 4,
   "metadata": {},
   "outputs": [
    {
     "data": {
      "text/plain": [
       "tuple"
      ]
     },
     "execution_count": 4,
     "metadata": {},
     "output_type": "execute_result"
    }
   ],
   "source": [
    "type(lat_range)"
   ]
  },
  {
   "cell_type": "markdown",
   "metadata": {},
   "source": [
    "### Perform API Calls\n",
    "* Perform a weather check on each city using a series of successive API calls.\n",
    "* Include a print log of each city as it'sbeing processed (with the city number and city name).\n"
   ]
  },
  {
   "cell_type": "code",
   "execution_count": 22,
   "metadata": {
    "scrolled": true
   },
   "outputs": [
    {
     "name": "stdout",
     "output_type": "stream",
     "text": [
      "Begining Data Retrieval\n",
      "-----------------------------------\n",
      "Processing record 1 | Oranjemund\n",
      "Processing record 2 | Yellowknife\n",
      "Processing record 3 | Wanning\n",
      "Processing record 4 | Busselton\n",
      "Processing record 5 | Rikitea\n",
      "Processing record 6 | Mandalgovi\n",
      "Processing record 7 | Castro\n",
      "City not found. Skipping...\n",
      "Processing record 8 | Mataura\n",
      "Processing record 9 | Romny\n",
      "Processing record 10 | Ushuaia\n",
      "Processing record 11 | Barrow\n",
      "Processing record 12 | Manmād\n",
      "Processing record 13 | Hermanus\n",
      "Processing record 14 | Manggar\n",
      "Processing record 15 | Tiksi\n",
      "Processing record 16 | Tuktoyaktuk\n",
      "Processing record 17 | Katsuura\n",
      "Processing record 18 | Preslav\n",
      "City not found. Skipping...\n",
      "Processing record 19 | Novoagansk\n",
      "Processing record 20 | Clyde River\n",
      "City not found. Skipping...\n",
      "Processing record 21 | Vaini\n",
      "Processing record 22 | Pisco\n",
      "Processing record 23 | Bredasdorp\n",
      "Processing record 24 | São Gabriel da Cachoeira\n",
      "Processing record 25 | Husavik\n",
      "Processing record 26 | Jamestown\n",
      "Processing record 27 | Brae\n",
      "Processing record 28 | Ponta do Sol\n",
      "Processing record 29 | Kemijärvi\n",
      "Processing record 30 | Labuhan\n",
      "Processing record 31 | Pacific Grove\n",
      "Processing record 32 | Puerto Ayora\n",
      "Processing record 33 | Dali\n",
      "Processing record 34 | Guerrero Negro\n",
      "Processing record 35 | Bluff\n",
      "Processing record 36 | Atuona\n",
      "Processing record 37 | Gillette\n",
      "Processing record 38 | Saskylakh\n",
      "Processing record 39 | Broome\n",
      "Processing record 40 | Lompoc\n",
      "City not found. Skipping...\n",
      "Processing record 41 | Vila Franca do Campo\n",
      "Processing record 42 | Nome\n",
      "Processing record 43 | Grants\n",
      "Processing record 44 | Aldan\n",
      "Processing record 45 | Bambous Virieux\n",
      "Processing record 46 | New Norfolk\n",
      "Processing record 47 | Valdivia\n",
      "Processing record 48 | San Patricio\n",
      "Processing record 49 | Sampit\n",
      "Processing record 50 | Rome\n",
      "City not found. Skipping...\n",
      "Processing record 51 | Cape Town\n",
      "Processing record 52 | Fortuna\n",
      "Processing record 53 | Mogadishu\n",
      "Processing record 54 | Khiri Mat\n",
      "Processing record 55 | Avarua\n",
      "Processing record 56 | Bairiki Village\n",
      "Processing record 57 | Tilichiki\n",
      "Processing record 58 | Ribeira Grande\n",
      "Processing record 59 | Mīzan Teferī\n",
      "Processing record 60 | Bonavista\n",
      "Processing record 61 | Hobart\n",
      "Processing record 62 | Kavieng\n",
      "Processing record 63 | Butaritari\n",
      "Processing record 64 | George Town\n",
      "Processing record 65 | Whitehorse\n",
      "Processing record 66 | Djibouti\n",
      "Processing record 67 | Aasiaat\n",
      "Processing record 68 | Te Anau\n",
      "Processing record 69 | Fes\n",
      "Processing record 70 | Geraldton\n",
      "Processing record 71 | Longyearbyen\n",
      "Processing record 72 | Ahipara\n",
      "Processing record 73 | Hohhot\n",
      "Processing record 74 | Mar del Plata\n",
      "Processing record 75 | Gualeguay\n",
      "Processing record 76 | East London\n",
      "City not found. Skipping...\n",
      "Processing record 77 | Bassano\n",
      "Processing record 78 | Lata\n",
      "Processing record 79 | Mahébourg\n",
      "Processing record 80 | Pochutla\n",
      "Processing record 81 | Cherskiy\n",
      "Processing record 82 | Alekseyevsk\n",
      "Processing record 83 | Khovd\n",
      "Processing record 84 | El Rodeo (El Naranjo)\n",
      "Processing record 85 | Punta Arenas\n",
      "Processing record 86 | Kruisfontein\n",
      "Processing record 87 | The Valley\n",
      "Processing record 88 | Souillac\n",
      "Processing record 89 | Flinders\n",
      "Processing record 90 | Kangaba\n",
      "Processing record 91 | Margate\n",
      "City not found. Skipping...\n",
      "Processing record 92 | Perdões\n",
      "Processing record 93 | Brownwood\n",
      "City not found. Skipping...\n",
      "Processing record 94 | Macaíba\n",
      "Processing record 95 | Saltillo\n",
      "Processing record 96 | Jilib\n",
      "Processing record 97 | Chui\n",
      "Processing record 98 | Albany\n",
      "Processing record 99 | Kantang\n",
      "City not found. Skipping...\n",
      "Processing record 100 | Atar\n",
      "Processing record 101 | Srednekolymsk\n",
      "Processing record 102 | Qaanaaq\n",
      "Processing record 103 | Villiers\n",
      "Processing record 104 | Pevek\n",
      "Processing record 105 | Tasiilaq\n",
      "Processing record 106 | Ambovombe\n",
      "Processing record 107 | Saint-Augustin\n",
      "Processing record 108 | Mazagão\n",
      "Processing record 109 | Pundaguitan\n",
      "Processing record 110 | Doha\n",
      "Processing record 111 | Saint Paul Harbor\n",
      "Processing record 112 | Batetskiy\n",
      "City not found. Skipping...\n",
      "Processing record 113 | Constitución\n",
      "Processing record 114 | Itatiaia\n",
      "Processing record 115 | Polson\n",
      "Processing record 116 | Hilo\n",
      "Processing record 117 | Egvekinot\n",
      "Processing record 118 | Anadyr\n",
      "Processing record 119 | Saint-Leu\n",
      "Processing record 120 | Chazuta\n",
      "Processing record 121 | Khatanga\n",
      "Processing record 122 | Thompson\n",
      "City not found. Skipping...\n",
      "Processing record 123 | Isangel\n",
      "City not found. Skipping...\n",
      "Processing record 124 | Lapua\n",
      "City not found. Skipping...\n",
      "Processing record 125 | Auki\n",
      "Processing record 126 | Ubari\n",
      "Processing record 127 | Bandarbeyla\n",
      "Processing record 128 | Padang\n",
      "Processing record 129 | Jiuquan\n",
      "Processing record 130 | Torbay\n",
      "Processing record 131 | Bilibino\n",
      "City not found. Skipping...\n",
      "Processing record 132 | Teluk Nibung\n",
      "Processing record 133 | Malé\n",
      "Processing record 134 | Köping\n",
      "Processing record 135 | Nsanje\n",
      "Processing record 136 | Salalah\n",
      "Processing record 137 | Saldanha\n",
      "City not found. Skipping...\n",
      "Processing record 138 | Chiguayante\n",
      "Processing record 139 | Ancud\n",
      "Processing record 140 | Iqaluit\n",
      "Processing record 141 | Nikolskoye\n",
      "Processing record 142 | Cap Malheureux\n",
      "Processing record 143 | Vaitape\n",
      "Processing record 144 | Baghdad\n",
      "Processing record 145 | Tzaneen\n",
      "Processing record 146 | Port Elizabeth\n",
      "Processing record 147 | Varhaug\n",
      "Processing record 148 | Valls\n",
      "Processing record 149 | Butembo\n",
      "Processing record 150 | Afşin\n",
      "Processing record 151 | Itoman\n",
      "Processing record 152 | Mount Isa\n",
      "Processing record 153 | Steamboat Springs\n",
      "Processing record 154 | Lere\n",
      "Processing record 155 | Hay River\n",
      "Processing record 156 | Coquimbo\n",
      "Processing record 157 | Severo-Kuril'sk\n",
      "Processing record 158 | Langsa\n",
      "City not found. Skipping...\n",
      "Processing record 159 | Gushikawa\n",
      "Processing record 160 | Hasaki\n",
      "Processing record 161 | Juradó\n",
      "Processing record 162 | Trujillo\n",
      "Processing record 163 | Mitsamiouli\n",
      "Processing record 164 | Amahai\n",
      "City not found. Skipping...\n",
      "Processing record 165 | Dukat\n",
      "Processing record 166 | Ust-Kuyga\n",
      "Processing record 167 | Piranshahr\n",
      "Processing record 168 | Port Alfred\n",
      "Processing record 169 | Fort Nelson\n",
      "Processing record 170 | Yurimaguas\n",
      "Processing record 171 | Moose Factory\n",
      "City not found. Skipping...\n",
      "City not found. Skipping...\n",
      "City not found. Skipping...\n",
      "Processing record 172 | Carson City\n",
      "Processing record 173 | Rawson\n",
      "Processing record 174 | Dikson\n",
      "Processing record 175 | Port-Gentil\n",
      "Processing record 176 | Adelaide\n",
      "City not found. Skipping...\n",
      "Processing record 177 | Gdańsk\n",
      "City not found. Skipping...\n",
      "Processing record 178 | Zhezkazgan\n",
      "City not found. Skipping...\n",
      "Processing record 179 | Posse\n",
      "Processing record 180 | Lebu\n",
      "Processing record 181 | Guayaramerín\n",
      "Processing record 182 | Yārāda\n",
      "Processing record 183 | Saint George\n",
      "Processing record 184 | Baruun-Urt\n",
      "Processing record 185 | Almaznyy\n",
      "City not found. Skipping...\n",
      "Processing record 186 | Ucluelet\n",
      "Processing record 187 | Baoqing\n",
      "Processing record 188 | Beruwala\n",
      "Processing record 189 | Saint-Philippe\n",
      "Processing record 190 | Santa Cruz de la Sierra\n",
      "Processing record 191 | Bethel\n",
      "Processing record 192 | Isa Khel\n",
      "Processing record 193 | Amapá\n",
      "Processing record 194 | Caravelas\n",
      "Processing record 195 | Cabo San Lucas\n",
      "City not found. Skipping...\n",
      "Processing record 196 | Abu Samrah\n",
      "Processing record 197 | Arraial do Cabo\n",
      "Processing record 198 | Borisoglebsk\n",
      "Processing record 199 | Manitouwadge\n",
      "Processing record 200 | Airai\n",
      "Processing record 201 | Carnarvon\n",
      "Processing record 202 | Nuuk\n",
      "Processing record 203 | Provideniya\n",
      "City not found. Skipping...\n",
      "Processing record 204 | Kapaa\n",
      "Processing record 205 | Dauriya\n",
      "Processing record 206 | Coyhaique\n",
      "Processing record 207 | Kilindoni\n",
      "Processing record 208 | Cidreira\n",
      "Processing record 209 | Grand Gaube\n",
      "Processing record 210 | Massaguet\n",
      "Processing record 211 | Mossamedes\n",
      "Processing record 212 | Killybegs\n",
      "Processing record 213 | Kudirkos Naumiestis\n",
      "Processing record 214 | Lüderitz\n",
      "Processing record 215 | Lagoa\n",
      "Processing record 216 | Beloha\n",
      "Processing record 217 | Hithadhoo\n",
      "Processing record 218 | Garoowe\n",
      "Processing record 219 | Puerto Escondido\n",
      "Processing record 220 | Vanimo\n",
      "Processing record 221 | Beyneu\n",
      "Processing record 222 | Linxia Chengguanzhen\n",
      "Processing record 223 | Kieta\n",
      "Processing record 224 | Laas\n"
     ]
    },
    {
     "name": "stdout",
     "output_type": "stream",
     "text": [
      "Processing record 225 | Upernavik\n",
      "Processing record 226 | Sullia\n",
      "City not found. Skipping...\n",
      "Processing record 227 | Port Macquarie\n",
      "Processing record 228 | Comodoro Rivadavia\n",
      "Processing record 229 | Hong Kong\n",
      "Processing record 230 | Vao\n",
      "Processing record 231 | Raudeberg\n",
      "Processing record 232 | Piquete\n",
      "Processing record 233 | Dunmore East\n",
      "Processing record 234 | Rehoboth\n",
      "Processing record 235 | Baker City\n",
      "Processing record 236 | Musāfir-Khāna\n",
      "Processing record 237 | Moville\n",
      "Processing record 238 | Sur\n",
      "Processing record 239 | Pangkalanbuun\n",
      "Processing record 240 | Severnyy\n",
      "Processing record 241 | Norman Wells\n",
      "Processing record 242 | Kiryat Gat\n",
      "Processing record 243 | Peleduy\n",
      "Processing record 244 | Vostok\n",
      "Processing record 245 | Alcañiz\n",
      "Processing record 246 | Scarborough\n",
      "Processing record 247 | Viedma\n",
      "Processing record 248 | Praia da Vitória\n",
      "Processing record 249 | Havelock\n",
      "City not found. Skipping...\n",
      "City not found. Skipping...\n",
      "Processing record 250 | Saint-François\n",
      "Processing record 251 | Santa Maria\n",
      "Processing record 252 | Nurota\n",
      "Processing record 253 | Nanzhang\n",
      "Processing record 254 | Tateyama\n",
      "Processing record 255 | Alta Floresta\n",
      "Processing record 256 | Indi\n",
      "Processing record 257 | Maniitsoq\n",
      "Processing record 258 | Kaitangata\n",
      "Processing record 259 | Meïganga\n",
      "Processing record 260 | Sinnamary\n",
      "Processing record 261 | Tura\n",
      "Processing record 262 | La Palma\n",
      "Processing record 263 | Kahului\n",
      "Processing record 264 | Coos Bay\n",
      "Processing record 265 | Noumea\n",
      "City not found. Skipping...\n",
      "Processing record 266 | Esperance\n",
      "Processing record 267 | San Cristobal\n",
      "Processing record 268 | Dorchester\n",
      "Processing record 269 | Hambantota\n",
      "Processing record 270 | Kidodi\n",
      "Processing record 271 | San Nicolas\n",
      "Processing record 272 | Talnakh\n",
      "Processing record 273 | Muhafazat Lahij\n",
      "City not found. Skipping...\n",
      "Processing record 274 | Tual\n",
      "Processing record 275 | Lavrentiya\n",
      "Processing record 276 | Aklavik\n",
      "Processing record 277 | Kavaratti\n",
      "Processing record 278 | Paratinga\n",
      "Processing record 279 | Bengkulu\n",
      "City not found. Skipping...\n",
      "Processing record 280 | Intipucá\n",
      "City not found. Skipping...\n",
      "Processing record 281 | Suntar\n",
      "City not found. Skipping...\n",
      "Processing record 282 | Fairbanks\n",
      "Processing record 283 | Faanui\n",
      "Processing record 284 | Makkah al Mukarramah\n",
      "Processing record 285 | Necochea\n",
      "Processing record 286 | Sørland\n",
      "Processing record 287 | San Juan de la Maguana\n",
      "Processing record 288 | Mehamn\n",
      "Processing record 289 | Berlevåg\n",
      "Processing record 290 | Oriximiná\n",
      "Processing record 291 | La Ronge\n",
      "Processing record 292 | Bushehr\n",
      "Processing record 293 | Xai-Xai\n",
      "Processing record 294 | Arrondissement de Perpignan\n",
      "Processing record 295 | Saint-Joseph\n",
      "Processing record 296 | Quatre Cocos\n",
      "Processing record 297 | Elko\n",
      "Processing record 298 | Francistown\n",
      "Processing record 299 | Yangi Marg`ilon\n",
      "Processing record 300 | Conceição do Araguaia\n",
      "Processing record 301 | Sheridan\n",
      "Processing record 302 | Sioux Lookout\n",
      "Processing record 303 | Lichinga\n",
      "Processing record 304 | Haines Junction\n",
      "Processing record 305 | Tuatapere\n",
      "Processing record 306 | Abhā\n",
      "Processing record 307 | Mitoc\n",
      "Processing record 308 | Chapais\n",
      "Processing record 309 | Muravlenko\n",
      "Processing record 310 | Yaan\n",
      "Processing record 311 | Port Moresby\n",
      "City not found. Skipping...\n",
      "Processing record 312 | Hobyo\n",
      "Processing record 313 | Grootfontein\n",
      "Processing record 314 | Quelimane\n",
      "Processing record 315 | Kabwe\n",
      "Processing record 316 | Sawai Madhopur\n",
      "Processing record 317 | Kirakira\n",
      "Processing record 318 | Iquitos\n",
      "Processing record 319 | Innisfail\n",
      "Processing record 320 | Dingle\n",
      "Processing record 321 | Muzhi\n",
      "Processing record 322 | At-Bashi\n",
      "Processing record 323 | Malia\n",
      "Processing record 324 | Invermere\n",
      "Processing record 325 | Sungai Penuh\n",
      "Processing record 326 | Chokurdakh\n",
      "Processing record 327 | Paraíso\n",
      "City not found. Skipping...\n",
      "Processing record 328 | Micheweni\n",
      "Processing record 329 | Los Llanos de Aridane\n",
      "Processing record 330 | Assis\n",
      "Processing record 331 | Iisalmi\n",
      "Processing record 332 | Hualmay\n",
      "Processing record 333 | Dhībān\n",
      "Processing record 334 | Lamu\n",
      "Processing record 335 | Cape Canaveral\n",
      "Processing record 336 | Lorengau\n",
      "Processing record 337 | Beringovskiy\n",
      "Processing record 338 | Alpena\n",
      "Processing record 339 | Chicama\n",
      "Processing record 340 | Kachīry\n",
      "Processing record 341 | Ivanteyevka\n",
      "Processing record 342 | Aquiraz\n",
      "Processing record 343 | Cabinda\n",
      "Processing record 344 | Najrān\n",
      "Processing record 345 | Port Keats\n",
      "Processing record 346 | Mareeba\n",
      "Processing record 347 | Pombas\n",
      "Processing record 348 | Luanda\n",
      "Processing record 349 | Marawi\n",
      "Processing record 350 | Kumul\n",
      "Processing record 351 | Pozo Colorado\n",
      "City not found. Skipping...\n",
      "Processing record 352 | Kibre Mengist\n",
      "City not found. Skipping...\n",
      "Processing record 353 | Mariehamn\n",
      "Processing record 354 | Ormara\n",
      "Processing record 355 | Reporoa\n",
      "Processing record 356 | Port Alberni\n",
      "Processing record 357 | Huarmey\n",
      "City not found. Skipping...\n",
      "Processing record 358 | Huancabamba\n",
      "Processing record 359 | San Quintín\n",
      "Processing record 360 | Boulder\n",
      "City not found. Skipping...\n",
      "Processing record 361 | Stockbridge\n",
      "Processing record 362 | Acajutla\n",
      "Processing record 363 | Bulgan\n",
      "Processing record 364 | Hīt\n",
      "Processing record 365 | Baykit\n",
      "Processing record 366 | Inta\n",
      "Processing record 367 | Ilulissat\n",
      "Processing record 368 | Sonāmukhi\n",
      "Processing record 369 | Batemans Bay\n",
      "Processing record 370 | Seoul\n",
      "Processing record 371 | Vanavara\n",
      "Processing record 372 | Khuzdar\n",
      "Processing record 373 | Darhan\n",
      "Processing record 374 | Coolum Beach\n",
      "Processing record 375 | Camalú\n",
      "Processing record 376 | Sahuaripa\n",
      "Processing record 377 | Arua\n",
      "Processing record 378 | Robertsport\n",
      "Processing record 379 | Susanville\n",
      "Processing record 380 | Ouégoa\n",
      "Processing record 381 | Znamenskoye\n",
      "Processing record 382 | Nhulunbuy\n",
      "Processing record 383 | Manuk Mangkaw\n",
      "Processing record 384 | Coxim\n",
      "Processing record 385 | Vyartsilya\n",
      "Processing record 386 | Moroto\n",
      "Processing record 387 | Eureka\n",
      "Processing record 388 | Tubualá\n",
      "City not found. Skipping...\n",
      "Processing record 389 | Bom Jesus\n",
      "Processing record 390 | Hofn\n",
      "Processing record 391 | Menongue\n",
      "Processing record 392 | Paita\n",
      "Processing record 393 | Palmer\n",
      "Processing record 394 | Sitka\n",
      "Processing record 395 | Orange\n",
      "Processing record 396 | Roald\n",
      "Processing record 397 | Muyezerskiy\n",
      "Processing record 398 | Kloulklubed\n",
      "Processing record 399 | Llaillay\n",
      "Processing record 400 | Xining\n",
      "Processing record 401 | Lobito\n",
      "Processing record 402 | Tamiahua\n",
      "Processing record 403 | Laibin\n",
      "Processing record 404 | Artena\n",
      "Processing record 405 | Katiola\n",
      "Processing record 406 | Sabha\n",
      "Processing record 407 | Lebedinyy\n",
      "Processing record 408 | Bogorodsk\n",
      "Processing record 409 | Laguna\n",
      "Processing record 410 | Port Hawkesbury\n",
      "Processing record 411 | Seydi\n",
      "Processing record 412 | Goderich\n",
      "Processing record 413 | Disna\n",
      "Processing record 414 | Voh\n",
      "Processing record 415 | Chimbote\n",
      "Processing record 416 | Bābai\n",
      "Processing record 417 | Pilar\n",
      "Processing record 418 | Departamento de Maldonado\n",
      "Processing record 419 | Tucuruí\n",
      "Processing record 420 | Itarema\n",
      "Processing record 421 | Vitim\n",
      "Processing record 422 | Sirte\n",
      "Processing record 423 | Rey Bouba\n",
      "Processing record 424 | Salisbury\n",
      "Processing record 425 | Jieshi\n",
      "Processing record 426 | Mago\n",
      "Processing record 427 | Faya\n",
      "Processing record 428 | Nuquí\n",
      "Processing record 429 | Kichera\n",
      "Processing record 430 | Peniche\n",
      "Processing record 431 | Ambilobe\n",
      "Processing record 432 | Liaocheng\n",
      "Processing record 433 | Mana\n",
      "Processing record 434 | Prince Rupert\n",
      "Processing record 435 | Alofi\n",
      "Processing record 436 | Leh\n",
      "Processing record 437 | Soyo\n",
      "City not found. Skipping...\n",
      "Processing record 438 | Adrar\n",
      "Processing record 439 | Turukhansk\n",
      "Processing record 440 | Henties Bay\n",
      "Processing record 441 | Palmares do Sul\n",
      "Processing record 442 | Svetlaya\n",
      "Processing record 443 | Beira\n",
      "City not found. Skipping...\n",
      "Processing record 444 | Paamiut\n",
      "Processing record 445 | Tianmen\n",
      "Processing record 446 | Qaqortoq\n",
      "Processing record 447 | Port Blair\n",
      "Processing record 448 | Muisne\n",
      "Processing record 449 | Bubaque\n",
      "Processing record 450 | Berdigestyakh\n",
      "Processing record 451 | Nara\n",
      "Processing record 452 | Teacapan\n",
      "Processing record 453 | Wundanyi\n",
      "Processing record 454 | Hokitika\n",
      "Processing record 455 | Grong\n"
     ]
    },
    {
     "name": "stdout",
     "output_type": "stream",
     "text": [
      "Processing record 456 | Malartic\n",
      "Processing record 457 | Byron Bay\n",
      "Processing record 458 | Petropavlovsk-Kamchatskiy\n",
      "Processing record 459 | Çay\n",
      "Processing record 460 | Mahibadhoo\n",
      "Processing record 461 | Iranshahr\n",
      "Processing record 462 | Minzhu\n",
      "Processing record 463 | Bonthe\n",
      "Processing record 464 | Pag\n",
      "Processing record 465 | Preobrazheniye\n",
      "Processing record 466 | Acapulco de Juárez\n",
      "Processing record 467 | Atambua\n",
      "Processing record 468 | Chumikan\n",
      "Processing record 469 | Aban\n",
      "Processing record 470 | Kyrksæterøra\n",
      "Processing record 471 | São Geraldo do Araguaia\n",
      "Processing record 472 | Nizhniy Kuranakh\n",
      "Processing record 473 | Cabedelo\n",
      "Processing record 474 | Nantucket\n",
      "Processing record 475 | Narsaq\n",
      "Processing record 476 | Jalu\n",
      "Processing record 477 | Ixtapa\n",
      "Processing record 478 | Flin Flon\n",
      "Processing record 479 | Longhua\n",
      "Processing record 480 | Asău\n",
      "Processing record 481 | Bud\n",
      "Processing record 482 | Arawa\n",
      "Processing record 483 | Muros\n",
      "Processing record 484 | Port Augusta\n",
      "Processing record 485 | Gavrilovka Vtoraya\n",
      "Processing record 486 | Porto-Vecchio\n",
      "Processing record 487 | Omsukchan\n",
      "Processing record 488 | Oussouye\n",
      "Processing record 489 | Vestmannaeyjar\n",
      "Processing record 490 | Pangnirtung\n",
      "Processing record 491 | Nouadhibou\n",
      "City not found. Skipping...\n",
      "Processing record 492 | Dauphin\n",
      "City not found. Skipping...\n",
      "Processing record 493 | Kommunar\n",
      "Processing record 494 | Sakakah\n",
      "Processing record 495 | Marsh Harbour\n",
      "Processing record 496 | Cayenne\n",
      "Processing record 497 | Santa Fe\n",
      "Processing record 498 | Cururupu\n",
      "Processing record 499 | Saint Anthony\n",
      "Processing record 500 | Panāgar\n",
      "Processing record 501 | Nur-Sultan\n",
      "Processing record 502 | Ukiah\n",
      "Processing record 503 | Sayyan\n",
      "Processing record 504 | Povenets\n",
      "Processing record 505 | Nelson Bay\n",
      "Processing record 506 | Shibetsu\n",
      "Processing record 507 | Salihli\n",
      "Processing record 508 | Apastovo\n",
      "Processing record 509 | Mayo\n",
      "Processing record 510 | Melfi\n",
      "Processing record 511 | Dombarovskiy\n",
      "Processing record 512 | Matara\n",
      "Processing record 513 | Concarneau\n",
      "City not found. Skipping...\n",
      "Processing record 514 | Middelburg\n",
      "Processing record 515 | Hare Bay\n",
      "Processing record 516 | Balakhta\n",
      "Processing record 517 | Moscow\n",
      "Processing record 518 | Yulara\n",
      "Processing record 519 | Boyolangu\n",
      "City not found. Skipping...\n",
      "Processing record 520 | Priozyornoye\n",
      "Processing record 521 | Keene\n",
      "City not found. Skipping...\n",
      "Processing record 522 | Grindavik\n",
      "Processing record 523 | Naivasha\n",
      "Processing record 524 | Manavālakurichi\n",
      "Processing record 525 | Gurupi\n",
      "Processing record 526 | Dzhebariki-Khaya\n",
      "Processing record 527 | Juegang\n",
      "Processing record 528 | Araranguá\n",
      "Processing record 529 | Andreyevo\n",
      "Processing record 530 | Pachino\n",
      "Processing record 531 | Kamina\n",
      "Processing record 532 | Kamaishi\n",
      "Processing record 533 | Puri\n",
      "Processing record 534 | Edson\n",
      "Processing record 535 | Coahuayana Viejo\n",
      "Processing record 536 | Hirara\n",
      "Processing record 537 | Horta\n",
      "Processing record 538 | Zhangye\n",
      "City not found. Skipping...\n",
      "Processing record 539 | Chernyshevskiy\n",
      "Processing record 540 | Zhigansk\n",
      "Processing record 541 | Harper\n",
      "Processing record 542 | Maridi\n",
      "City not found. Skipping...\n",
      "Processing record 543 | Paragominas\n",
      "Processing record 544 | Tahe\n",
      "Processing record 545 | Gōtsuchō\n",
      "City not found. Skipping...\n",
      "Processing record 546 | Shahrud\n",
      "Processing record 547 | Awjilah\n",
      "Processing record 548 | Skoghall\n",
      "############# Completed #############\n",
      "548 were processed\n"
     ]
    }
   ],
   "source": [
    "# https://openweathermap.org/current for api calling documentatiun\n",
    "\n",
    "# start counter at 0\n",
    "counter = 0\n",
    "# create an empty list to append to\n",
    "city_data = []\n",
    "\n",
    "# Sets were only used as the maximum data that could be retrieved from the weather api is 50 per minute according to documentation. \n",
    "# This has been ignored as more requests than a 50 requests per minute can be made\n",
    "\n",
    "print(\"Begining Data Retrieval\")\n",
    "print(\"-----------------------------------\")\n",
    "\n",
    "#loop through cities list\n",
    "for city in cities:\n",
    "    \n",
    "    # set url and units for cities search\n",
    "    units = \"metric\"\n",
    "    base_url = \"http://api.openweathermap.org/data/2.5/weather?\"\n",
    "    query_url = base_url + \"appid=\" + weather_api_key + \"&units=\" + units + \"&q=\" + city\n",
    "    \n",
    "    #use try and except to append city_data or respond with nothing found\n",
    "    try:\n",
    "        # add to counter each city\n",
    "        counter = counter + 1\n",
    "        \n",
    "        # get json from query request of city\n",
    "        city_weather = requests.get(query_url).json()\n",
    "        \n",
    "        # pull out data from request json\n",
    "        name = city_weather[\"name\"]\n",
    "        latitude = city_weather[\"coord\"][\"lat\"]\n",
    "        longitude = city_weather[\"coord\"][\"lon\"]\n",
    "        max_temp = city_weather[\"main\"][\"temp_max\"]\n",
    "        humidity = city_weather[\"main\"][\"humidity\"]\n",
    "        clouds = city_weather[\"clouds\"][\"all\"]\n",
    "        wind = city_weather[\"wind\"][\"speed\"]\n",
    "        country = city_weather[\"sys\"][\"country\"]\n",
    "        date = city_weather[\"dt\"]\n",
    "        \n",
    "        # append city data found to empty city_data list\n",
    "        city_data.append({\"City\": name,\n",
    "                            \"Latitude\": latitude,\n",
    "                            \"Longitude\": longitude,\n",
    "                            \"Max Temp\": max_temp,\n",
    "                            \"Humidity\": humidity,\n",
    "                            \"Cloudiness\": clouds,\n",
    "                            \"Wind Speed\": wind,\n",
    "                            \"Country\": country,\n",
    "                            \"Date\": date \n",
    "                         })\n",
    "        \n",
    "        print(f\"Processing record {counter} | {name}\" )\n",
    "        \n",
    "    except Exception: \n",
    "        counter = counter - 1\n",
    "        print(\"City not found. Skipping...\")\n",
    "        \n",
    "print(\"############# Completed #############\")  \n",
    "records = len(city_data)\n",
    "print(f\"{records} cities were processed\")"
   ]
  },
  {
   "cell_type": "markdown",
   "metadata": {},
   "source": [
    "### Convert Raw Data to DataFrame\n",
    "* Export the city data into a .csv.\n",
    "* Display the DataFrame"
   ]
  },
  {
   "cell_type": "code",
   "execution_count": 23,
   "metadata": {},
   "outputs": [
    {
     "data": {
      "text/html": [
       "<div>\n",
       "<style scoped>\n",
       "    .dataframe tbody tr th:only-of-type {\n",
       "        vertical-align: middle;\n",
       "    }\n",
       "\n",
       "    .dataframe tbody tr th {\n",
       "        vertical-align: top;\n",
       "    }\n",
       "\n",
       "    .dataframe thead th {\n",
       "        text-align: right;\n",
       "    }\n",
       "</style>\n",
       "<table border=\"1\" class=\"dataframe\">\n",
       "  <thead>\n",
       "    <tr style=\"text-align: right;\">\n",
       "      <th></th>\n",
       "      <th>City</th>\n",
       "      <th>Latitude</th>\n",
       "      <th>Longitude</th>\n",
       "      <th>Max Temp</th>\n",
       "      <th>Humidity</th>\n",
       "      <th>Cloudiness</th>\n",
       "      <th>Wind Speed</th>\n",
       "      <th>Country</th>\n",
       "      <th>Date</th>\n",
       "    </tr>\n",
       "  </thead>\n",
       "  <tbody>\n",
       "    <tr>\n",
       "      <th>0</th>\n",
       "      <td>Oranjemund</td>\n",
       "      <td>-28.5500</td>\n",
       "      <td>16.4333</td>\n",
       "      <td>18.82</td>\n",
       "      <td>86</td>\n",
       "      <td>13</td>\n",
       "      <td>2.52</td>\n",
       "      <td>NA</td>\n",
       "      <td>1610593174</td>\n",
       "    </tr>\n",
       "    <tr>\n",
       "      <th>1</th>\n",
       "      <td>Yellowknife</td>\n",
       "      <td>62.4560</td>\n",
       "      <td>-114.3525</td>\n",
       "      <td>-11.00</td>\n",
       "      <td>92</td>\n",
       "      <td>75</td>\n",
       "      <td>4.12</td>\n",
       "      <td>CA</td>\n",
       "      <td>1610593022</td>\n",
       "    </tr>\n",
       "    <tr>\n",
       "      <th>2</th>\n",
       "      <td>Wanning</td>\n",
       "      <td>18.8003</td>\n",
       "      <td>110.3967</td>\n",
       "      <td>19.36</td>\n",
       "      <td>64</td>\n",
       "      <td>55</td>\n",
       "      <td>3.91</td>\n",
       "      <td>CN</td>\n",
       "      <td>1610593175</td>\n",
       "    </tr>\n",
       "    <tr>\n",
       "      <th>3</th>\n",
       "      <td>Busselton</td>\n",
       "      <td>-33.6500</td>\n",
       "      <td>115.3333</td>\n",
       "      <td>21.11</td>\n",
       "      <td>46</td>\n",
       "      <td>100</td>\n",
       "      <td>1.79</td>\n",
       "      <td>AU</td>\n",
       "      <td>1610593176</td>\n",
       "    </tr>\n",
       "    <tr>\n",
       "      <th>4</th>\n",
       "      <td>Rikitea</td>\n",
       "      <td>-23.1203</td>\n",
       "      <td>-134.9692</td>\n",
       "      <td>25.51</td>\n",
       "      <td>77</td>\n",
       "      <td>71</td>\n",
       "      <td>5.19</td>\n",
       "      <td>PF</td>\n",
       "      <td>1610593178</td>\n",
       "    </tr>\n",
       "    <tr>\n",
       "      <th>...</th>\n",
       "      <td>...</td>\n",
       "      <td>...</td>\n",
       "      <td>...</td>\n",
       "      <td>...</td>\n",
       "      <td>...</td>\n",
       "      <td>...</td>\n",
       "      <td>...</td>\n",
       "      <td>...</td>\n",
       "      <td>...</td>\n",
       "    </tr>\n",
       "    <tr>\n",
       "      <th>543</th>\n",
       "      <td>Tahe</td>\n",
       "      <td>52.3333</td>\n",
       "      <td>124.7333</td>\n",
       "      <td>-22.85</td>\n",
       "      <td>82</td>\n",
       "      <td>9</td>\n",
       "      <td>1.16</td>\n",
       "      <td>CN</td>\n",
       "      <td>1610593680</td>\n",
       "    </tr>\n",
       "    <tr>\n",
       "      <th>544</th>\n",
       "      <td>Gōtsuchō</td>\n",
       "      <td>35.0000</td>\n",
       "      <td>132.2167</td>\n",
       "      <td>12.00</td>\n",
       "      <td>62</td>\n",
       "      <td>20</td>\n",
       "      <td>3.09</td>\n",
       "      <td>JP</td>\n",
       "      <td>1610593681</td>\n",
       "    </tr>\n",
       "    <tr>\n",
       "      <th>545</th>\n",
       "      <td>Shahrud</td>\n",
       "      <td>36.4182</td>\n",
       "      <td>54.9763</td>\n",
       "      <td>2.17</td>\n",
       "      <td>71</td>\n",
       "      <td>0</td>\n",
       "      <td>1.96</td>\n",
       "      <td>IR</td>\n",
       "      <td>1610593442</td>\n",
       "    </tr>\n",
       "    <tr>\n",
       "      <th>546</th>\n",
       "      <td>Awjilah</td>\n",
       "      <td>29.1081</td>\n",
       "      <td>21.2869</td>\n",
       "      <td>12.23</td>\n",
       "      <td>60</td>\n",
       "      <td>65</td>\n",
       "      <td>7.83</td>\n",
       "      <td>LY</td>\n",
       "      <td>1610593683</td>\n",
       "    </tr>\n",
       "    <tr>\n",
       "      <th>547</th>\n",
       "      <td>Skoghall</td>\n",
       "      <td>59.3232</td>\n",
       "      <td>13.4655</td>\n",
       "      <td>-7.00</td>\n",
       "      <td>93</td>\n",
       "      <td>90</td>\n",
       "      <td>7.20</td>\n",
       "      <td>SE</td>\n",
       "      <td>1610593685</td>\n",
       "    </tr>\n",
       "  </tbody>\n",
       "</table>\n",
       "<p>548 rows × 9 columns</p>\n",
       "</div>"
      ],
      "text/plain": [
       "            City  Latitude  Longitude  Max Temp  Humidity  Cloudiness  \\\n",
       "0     Oranjemund  -28.5500    16.4333     18.82        86          13   \n",
       "1    Yellowknife   62.4560  -114.3525    -11.00        92          75   \n",
       "2        Wanning   18.8003   110.3967     19.36        64          55   \n",
       "3      Busselton  -33.6500   115.3333     21.11        46         100   \n",
       "4        Rikitea  -23.1203  -134.9692     25.51        77          71   \n",
       "..           ...       ...        ...       ...       ...         ...   \n",
       "543         Tahe   52.3333   124.7333    -22.85        82           9   \n",
       "544     Gōtsuchō   35.0000   132.2167     12.00        62          20   \n",
       "545      Shahrud   36.4182    54.9763      2.17        71           0   \n",
       "546      Awjilah   29.1081    21.2869     12.23        60          65   \n",
       "547     Skoghall   59.3232    13.4655     -7.00        93          90   \n",
       "\n",
       "     Wind Speed Country        Date  \n",
       "0          2.52      NA  1610593174  \n",
       "1          4.12      CA  1610593022  \n",
       "2          3.91      CN  1610593175  \n",
       "3          1.79      AU  1610593176  \n",
       "4          5.19      PF  1610593178  \n",
       "..          ...     ...         ...  \n",
       "543        1.16      CN  1610593680  \n",
       "544        3.09      JP  1610593681  \n",
       "545        1.96      IR  1610593442  \n",
       "546        7.83      LY  1610593683  \n",
       "547        7.20      SE  1610593685  \n",
       "\n",
       "[548 rows x 9 columns]"
      ]
     },
     "execution_count": 23,
     "metadata": {},
     "output_type": "execute_result"
    }
   ],
   "source": [
    "# convert to a dataframe and display\n",
    "city_data_df = pd.DataFrame(city_data)\n",
    "city_data_df"
   ]
  },
  {
   "cell_type": "code",
   "execution_count": 24,
   "metadata": {},
   "outputs": [],
   "source": [
    "# output data to csv in output_data folder with no index\n",
    "output = city_data_df.to_csv(\"../output_data/city_data.csv\", index = False)"
   ]
  },
  {
   "cell_type": "code",
   "execution_count": 25,
   "metadata": {},
   "outputs": [
    {
     "data": {
      "text/html": [
       "<div>\n",
       "<style scoped>\n",
       "    .dataframe tbody tr th:only-of-type {\n",
       "        vertical-align: middle;\n",
       "    }\n",
       "\n",
       "    .dataframe tbody tr th {\n",
       "        vertical-align: top;\n",
       "    }\n",
       "\n",
       "    .dataframe thead th {\n",
       "        text-align: right;\n",
       "    }\n",
       "</style>\n",
       "<table border=\"1\" class=\"dataframe\">\n",
       "  <thead>\n",
       "    <tr style=\"text-align: right;\">\n",
       "      <th></th>\n",
       "      <th>Latitude</th>\n",
       "      <th>Longitude</th>\n",
       "      <th>Max Temp</th>\n",
       "      <th>Humidity</th>\n",
       "      <th>Cloudiness</th>\n",
       "      <th>Wind Speed</th>\n",
       "      <th>Date</th>\n",
       "    </tr>\n",
       "  </thead>\n",
       "  <tbody>\n",
       "    <tr>\n",
       "      <th>count</th>\n",
       "      <td>548.00</td>\n",
       "      <td>548.00</td>\n",
       "      <td>548.00</td>\n",
       "      <td>548.00</td>\n",
       "      <td>548.00</td>\n",
       "      <td>548.00</td>\n",
       "      <td>5.480000e+02</td>\n",
       "    </tr>\n",
       "    <tr>\n",
       "      <th>mean</th>\n",
       "      <td>20.49</td>\n",
       "      <td>15.76</td>\n",
       "      <td>9.07</td>\n",
       "      <td>75.93</td>\n",
       "      <td>54.89</td>\n",
       "      <td>3.38</td>\n",
       "      <td>1.610593e+09</td>\n",
       "    </tr>\n",
       "    <tr>\n",
       "      <th>std</th>\n",
       "      <td>33.18</td>\n",
       "      <td>90.14</td>\n",
       "      <td>17.77</td>\n",
       "      <td>18.49</td>\n",
       "      <td>40.74</td>\n",
       "      <td>2.50</td>\n",
       "      <td>1.749400e+02</td>\n",
       "    </tr>\n",
       "    <tr>\n",
       "      <th>min</th>\n",
       "      <td>-54.80</td>\n",
       "      <td>-179.17</td>\n",
       "      <td>-43.39</td>\n",
       "      <td>1.00</td>\n",
       "      <td>0.00</td>\n",
       "      <td>0.13</td>\n",
       "      <td>1.610593e+09</td>\n",
       "    </tr>\n",
       "    <tr>\n",
       "      <th>25%</th>\n",
       "      <td>-6.91</td>\n",
       "      <td>-63.01</td>\n",
       "      <td>-1.11</td>\n",
       "      <td>69.00</td>\n",
       "      <td>6.00</td>\n",
       "      <td>1.54</td>\n",
       "      <td>1.610593e+09</td>\n",
       "    </tr>\n",
       "    <tr>\n",
       "      <th>50%</th>\n",
       "      <td>25.35</td>\n",
       "      <td>23.87</td>\n",
       "      <td>14.35</td>\n",
       "      <td>81.00</td>\n",
       "      <td>70.50</td>\n",
       "      <td>2.84</td>\n",
       "      <td>1.610593e+09</td>\n",
       "    </tr>\n",
       "    <tr>\n",
       "      <th>75%</th>\n",
       "      <td>48.69</td>\n",
       "      <td>92.92</td>\n",
       "      <td>23.27</td>\n",
       "      <td>88.00</td>\n",
       "      <td>96.00</td>\n",
       "      <td>4.64</td>\n",
       "      <td>1.610594e+09</td>\n",
       "    </tr>\n",
       "    <tr>\n",
       "      <th>max</th>\n",
       "      <td>78.22</td>\n",
       "      <td>179.32</td>\n",
       "      <td>38.00</td>\n",
       "      <td>100.00</td>\n",
       "      <td>100.00</td>\n",
       "      <td>20.58</td>\n",
       "      <td>1.610594e+09</td>\n",
       "    </tr>\n",
       "  </tbody>\n",
       "</table>\n",
       "</div>"
      ],
      "text/plain": [
       "       Latitude  Longitude  Max Temp  Humidity  Cloudiness  Wind Speed  \\\n",
       "count    548.00     548.00    548.00    548.00      548.00      548.00   \n",
       "mean      20.49      15.76      9.07     75.93       54.89        3.38   \n",
       "std       33.18      90.14     17.77     18.49       40.74        2.50   \n",
       "min      -54.80    -179.17    -43.39      1.00        0.00        0.13   \n",
       "25%       -6.91     -63.01     -1.11     69.00        6.00        1.54   \n",
       "50%       25.35      23.87     14.35     81.00       70.50        2.84   \n",
       "75%       48.69      92.92     23.27     88.00       96.00        4.64   \n",
       "max       78.22     179.32     38.00    100.00      100.00       20.58   \n",
       "\n",
       "               Date  \n",
       "count  5.480000e+02  \n",
       "mean   1.610593e+09  \n",
       "std    1.749400e+02  \n",
       "min    1.610593e+09  \n",
       "25%    1.610593e+09  \n",
       "50%    1.610593e+09  \n",
       "75%    1.610594e+09  \n",
       "max    1.610594e+09  "
      ]
     },
     "execution_count": 25,
     "metadata": {},
     "output_type": "execute_result"
    }
   ],
   "source": [
    "# descrcibe data for insight\n",
    "city_data_df.describe().round(2)"
   ]
  },
  {
   "cell_type": "markdown",
   "metadata": {},
   "source": [
    "## Inspect the data and remove the cities where the humidity > 100%.\n",
    "----\n",
    "Skip this step if there are no cities that have humidity > 100%. "
   ]
  },
  {
   "cell_type": "code",
   "execution_count": 26,
   "metadata": {},
   "outputs": [
    {
     "name": "stdout",
     "output_type": "stream",
     "text": [
      "100\n"
     ]
    }
   ],
   "source": [
    "# find the highest humidity and check that is 100% or below\n",
    "print(max(city_data_df[\"Humidity\"]))"
   ]
  },
  {
   "cell_type": "code",
   "execution_count": 27,
   "metadata": {},
   "outputs": [
    {
     "data": {
      "text/html": [
       "<div>\n",
       "<style scoped>\n",
       "    .dataframe tbody tr th:only-of-type {\n",
       "        vertical-align: middle;\n",
       "    }\n",
       "\n",
       "    .dataframe tbody tr th {\n",
       "        vertical-align: top;\n",
       "    }\n",
       "\n",
       "    .dataframe thead th {\n",
       "        text-align: right;\n",
       "    }\n",
       "</style>\n",
       "<table border=\"1\" class=\"dataframe\">\n",
       "  <thead>\n",
       "    <tr style=\"text-align: right;\">\n",
       "      <th></th>\n",
       "      <th>City</th>\n",
       "      <th>Latitude</th>\n",
       "      <th>Longitude</th>\n",
       "      <th>Max Temp</th>\n",
       "      <th>Humidity</th>\n",
       "      <th>Cloudiness</th>\n",
       "      <th>Wind Speed</th>\n",
       "      <th>Country</th>\n",
       "      <th>Date</th>\n",
       "    </tr>\n",
       "  </thead>\n",
       "  <tbody>\n",
       "  </tbody>\n",
       "</table>\n",
       "</div>"
      ],
      "text/plain": [
       "Empty DataFrame\n",
       "Columns: [City, Latitude, Longitude, Max Temp, Humidity, Cloudiness, Wind Speed, Country, Date]\n",
       "Index: []"
      ]
     },
     "execution_count": 27,
     "metadata": {},
     "output_type": "execute_result"
    }
   ],
   "source": [
    "# find rows with humidity over 100\n",
    "humidity100 = city_data_df.loc[city_data_df[\"Humidity\"] > 100]\n",
    "humidity100"
   ]
  },
  {
   "cell_type": "code",
   "execution_count": 28,
   "metadata": {},
   "outputs": [
    {
     "data": {
      "text/plain": [
       "Int64Index([], dtype='int64')"
      ]
     },
     "execution_count": 28,
     "metadata": {},
     "output_type": "execute_result"
    }
   ],
   "source": [
    "#  Get the indices of cities that have humidity over 100%.\n",
    "humidity100_index = humidity100.index\n",
    "humidity100_index"
   ]
  },
  {
   "cell_type": "code",
   "execution_count": 29,
   "metadata": {},
   "outputs": [],
   "source": [
    "clean_city_data = pd.DataFrame(city_data)"
   ]
  },
  {
   "cell_type": "code",
   "execution_count": 14,
   "metadata": {},
   "outputs": [],
   "source": [
    "# There is no humidity over 100% found. Skipping...."
   ]
  },
  {
   "cell_type": "code",
   "execution_count": 30,
   "metadata": {},
   "outputs": [
    {
     "data": {
      "text/html": [
       "<div>\n",
       "<style scoped>\n",
       "    .dataframe tbody tr th:only-of-type {\n",
       "        vertical-align: middle;\n",
       "    }\n",
       "\n",
       "    .dataframe tbody tr th {\n",
       "        vertical-align: top;\n",
       "    }\n",
       "\n",
       "    .dataframe thead th {\n",
       "        text-align: right;\n",
       "    }\n",
       "</style>\n",
       "<table border=\"1\" class=\"dataframe\">\n",
       "  <thead>\n",
       "    <tr style=\"text-align: right;\">\n",
       "      <th></th>\n",
       "      <th>Latitude</th>\n",
       "      <th>Longitude</th>\n",
       "      <th>Max Temp</th>\n",
       "      <th>Humidity</th>\n",
       "      <th>Cloudiness</th>\n",
       "      <th>Wind Speed</th>\n",
       "      <th>Date</th>\n",
       "    </tr>\n",
       "  </thead>\n",
       "  <tbody>\n",
       "    <tr>\n",
       "      <th>count</th>\n",
       "      <td>548.000000</td>\n",
       "      <td>548.000000</td>\n",
       "      <td>548.000000</td>\n",
       "      <td>548.000000</td>\n",
       "      <td>548.000000</td>\n",
       "      <td>548.000000</td>\n",
       "      <td>5.480000e+02</td>\n",
       "    </tr>\n",
       "    <tr>\n",
       "      <th>mean</th>\n",
       "      <td>20.489087</td>\n",
       "      <td>15.762356</td>\n",
       "      <td>9.070182</td>\n",
       "      <td>75.934307</td>\n",
       "      <td>54.890511</td>\n",
       "      <td>3.382080</td>\n",
       "      <td>1.610593e+09</td>\n",
       "    </tr>\n",
       "    <tr>\n",
       "      <th>std</th>\n",
       "      <td>33.178546</td>\n",
       "      <td>90.143355</td>\n",
       "      <td>17.770939</td>\n",
       "      <td>18.488775</td>\n",
       "      <td>40.739181</td>\n",
       "      <td>2.495745</td>\n",
       "      <td>1.749410e+02</td>\n",
       "    </tr>\n",
       "    <tr>\n",
       "      <th>min</th>\n",
       "      <td>-54.800000</td>\n",
       "      <td>-179.166700</td>\n",
       "      <td>-43.390000</td>\n",
       "      <td>1.000000</td>\n",
       "      <td>0.000000</td>\n",
       "      <td>0.130000</td>\n",
       "      <td>1.610593e+09</td>\n",
       "    </tr>\n",
       "    <tr>\n",
       "      <th>25%</th>\n",
       "      <td>-6.908575</td>\n",
       "      <td>-63.011975</td>\n",
       "      <td>-1.110000</td>\n",
       "      <td>69.000000</td>\n",
       "      <td>6.000000</td>\n",
       "      <td>1.540000</td>\n",
       "      <td>1.610593e+09</td>\n",
       "    </tr>\n",
       "    <tr>\n",
       "      <th>50%</th>\n",
       "      <td>25.351700</td>\n",
       "      <td>23.870100</td>\n",
       "      <td>14.350000</td>\n",
       "      <td>81.000000</td>\n",
       "      <td>70.500000</td>\n",
       "      <td>2.840000</td>\n",
       "      <td>1.610593e+09</td>\n",
       "    </tr>\n",
       "    <tr>\n",
       "      <th>75%</th>\n",
       "      <td>48.690550</td>\n",
       "      <td>92.925000</td>\n",
       "      <td>23.270000</td>\n",
       "      <td>88.000000</td>\n",
       "      <td>96.000000</td>\n",
       "      <td>4.637500</td>\n",
       "      <td>1.610594e+09</td>\n",
       "    </tr>\n",
       "    <tr>\n",
       "      <th>max</th>\n",
       "      <td>78.218600</td>\n",
       "      <td>179.316700</td>\n",
       "      <td>38.000000</td>\n",
       "      <td>100.000000</td>\n",
       "      <td>100.000000</td>\n",
       "      <td>20.580000</td>\n",
       "      <td>1.610594e+09</td>\n",
       "    </tr>\n",
       "  </tbody>\n",
       "</table>\n",
       "</div>"
      ],
      "text/plain": [
       "         Latitude   Longitude    Max Temp    Humidity  Cloudiness  Wind Speed  \\\n",
       "count  548.000000  548.000000  548.000000  548.000000  548.000000  548.000000   \n",
       "mean    20.489087   15.762356    9.070182   75.934307   54.890511    3.382080   \n",
       "std     33.178546   90.143355   17.770939   18.488775   40.739181    2.495745   \n",
       "min    -54.800000 -179.166700  -43.390000    1.000000    0.000000    0.130000   \n",
       "25%     -6.908575  -63.011975   -1.110000   69.000000    6.000000    1.540000   \n",
       "50%     25.351700   23.870100   14.350000   81.000000   70.500000    2.840000   \n",
       "75%     48.690550   92.925000   23.270000   88.000000   96.000000    4.637500   \n",
       "max     78.218600  179.316700   38.000000  100.000000  100.000000   20.580000   \n",
       "\n",
       "               Date  \n",
       "count  5.480000e+02  \n",
       "mean   1.610593e+09  \n",
       "std    1.749410e+02  \n",
       "min    1.610593e+09  \n",
       "25%    1.610593e+09  \n",
       "50%    1.610593e+09  \n",
       "75%    1.610594e+09  \n",
       "max    1.610594e+09  "
      ]
     },
     "execution_count": 30,
     "metadata": {},
     "output_type": "execute_result"
    }
   ],
   "source": [
    "city_data_df.describe()"
   ]
  },
  {
   "cell_type": "markdown",
   "metadata": {},
   "source": [
    "## Plotting the Data\n",
    "* Use proper labeling of the plots using plot titles (including date of analysis) and axes labels.\n",
    "* Save the plotted figures as .pngs."
   ]
  },
  {
   "cell_type": "markdown",
   "metadata": {},
   "source": [
    "## Latitude vs. Temperature Plot"
   ]
  },
  {
   "cell_type": "code",
   "execution_count": 31,
   "metadata": {
    "scrolled": false
   },
   "outputs": [
    {
     "data": {
      "image/png": "[encoded data removed]",
      "text/plain": [
       "<Figure size 432x288 with 1 Axes>"
      ]
     },
     "metadata": {
      "needs_background": "light"
     },
     "output_type": "display_data"
    }
   ],
   "source": [
    "# Convert POSIX timestamp to formatted date\n",
    "# https://stackoverflow.com/questions/25146121/extracting-just-month-and-year-separately-from-pandas-datetime-column\n",
    "city_date = datetime.fromtimestamp(clean_city_data[\"Date\"].min()).strftime('%d/%m/%y')\n",
    "\n",
    "x_values = clean_city_data[\"Latitude\"]\n",
    "y_values = clean_city_data[\"Max Temp\"]\n",
    "\n",
    "plt.scatter(x_values,y_values)\n",
    "plt.xlabel(\"Latitude\")\n",
    "plt.ylabel(\"Max Temp (C)\")\n",
    "plt.title(f\"City Latitude vs Max Temp  {city_date}\")\n",
    "plt.grid()\n",
    "#plt.show()\n",
    "\n",
    "plt.savefig(\"../output_data/City Latitude vs Max Temp.png\")"
   ]
  },
  {
   "cell_type": "markdown",
   "metadata": {},
   "source": [
    "## Latitude vs. Humidity Plot"
   ]
  },
  {
   "cell_type": "code",
   "execution_count": 32,
   "metadata": {},
   "outputs": [
    {
     "data": {
      "image/png": "[encoded data removed]",
      "text/plain": [
       "<Figure size 432x288 with 1 Axes>"
      ]
     },
     "metadata": {
      "needs_background": "light"
     },
     "output_type": "display_data"
    }
   ],
   "source": [
    "x_values = clean_city_data[\"Latitude\"]\n",
    "y_values = clean_city_data[\"Humidity\"]\n",
    "\n",
    "plt.scatter(x_values,y_values)\n",
    "plt.xlabel(\"Latitude\")\n",
    "plt.ylabel(\"Huidity (%)\")\n",
    "plt.title(f\"City Latitude vs Humidity (%) {city_date}\")\n",
    "plt.grid()\n",
    "plt.savefig(\"../output_data/City Latitude vs Humidity (%)\")"
   ]
  },
  {
   "cell_type": "markdown",
   "metadata": {},
   "source": [
    "## Latitude vs. Cloudiness Plot"
   ]
  },
  {
   "cell_type": "code",
   "execution_count": 33,
   "metadata": {},
   "outputs": [
    {
     "data": {
      "image/png": "[encoded data removed]",
      "text/plain": [
       "<Figure size 432x288 with 1 Axes>"
      ]
     },
     "metadata": {
      "needs_background": "light"
     },
     "output_type": "display_data"
    }
   ],
   "source": [
    "x_values = clean_city_data[\"Latitude\"]\n",
    "y_values = clean_city_data[\"Cloudiness\"]\n",
    "\n",
    "plt.scatter(x_values,y_values)\n",
    "plt.xlabel(\"Latitude\")\n",
    "plt.ylabel(\"Cloudiness\")\n",
    "plt.title(f\"City Latitude vs Cloudiness {city_date}\")\n",
    "plt.grid()\n",
    "plt.savefig(\"../output_data/City Latitude vs Cloudiness\")"
   ]
  },
  {
   "cell_type": "markdown",
   "metadata": {},
   "source": [
    "## Latitude vs. Wind Speed Plot"
   ]
  },
  {
   "cell_type": "code",
   "execution_count": 34,
   "metadata": {},
   "outputs": [
    {
     "data": {
      "image/png": "[encoded data removed]",
      "text/plain": [
       "<Figure size 432x288 with 1 Axes>"
      ]
     },
     "metadata": {
      "needs_background": "light"
     },
     "output_type": "display_data"
    }
   ],
   "source": [
    "x_values = clean_city_data[\"Latitude\"]\n",
    "y_values = clean_city_data[\"Wind Speed\"]\n",
    "\n",
    "plt.scatter(x_values,y_values)\n",
    "plt.xlabel(\"Latitude\")\n",
    "plt.ylabel(\"Wind Speed\")\n",
    "plt.title(f\"City Latitude vs Wind Speed {city_date}\")\n",
    "plt.grid()\n",
    "plt.savefig(\"../output_data/City Latitude vs Wind Speed\")"
   ]
  },
  {
   "cell_type": "markdown",
   "metadata": {},
   "source": [
    "## Linear Regression"
   ]
  },
  {
   "cell_type": "code",
   "execution_count": 57,
   "metadata": {},
   "outputs": [
    {
     "name": "stdout",
     "output_type": "stream",
     "text": [
      "There are 373 cities in the northern hemisphere\n",
      "There are 175 cities in the southern hemisphere\n"
     ]
    }
   ],
   "source": [
    "# create northern and southern hemisphere cuts of data\n",
    "northern_hemi = clean_city_data.loc[(clean_city_data[\"Latitude\"]) > 0]\n",
    "len_northern = len(northern_hemi)\n",
    "\n",
    "southern_hemi = clean_city_data.loc[(clean_city_data[\"Latitude\"]) < 0]\n",
    "len_sothern = len(southern_hemi)\n",
    "\n",
    "print(f\"There are {len_northern} cities in the northern hemisphere\")\n",
    "print(f\"There are {len_sothern} cities in the southern hemisphere\")"
   ]
  },
  {
   "cell_type": "code",
   "execution_count": 59,
   "metadata": {},
   "outputs": [
    {
     "data": {
      "text/plain": [
       "count    175.000000\n",
       "mean      23.484971\n",
       "std        5.236626\n",
       "min       10.000000\n",
       "25%       20.495000\n",
       "50%       23.800000\n",
       "75%       27.180000\n",
       "max       38.000000\n",
       "Name: Max Temp, dtype: float64"
      ]
     },
     "execution_count": 59,
     "metadata": {},
     "output_type": "execute_result"
    }
   ],
   "source": [
    "southern_hemi[\"Max Temp\"].describe()"
   ]
  },
  {
   "cell_type": "code",
   "execution_count": 61,
   "metadata": {},
   "outputs": [
    {
     "data": {
      "text/plain": [
       "count    373.000000\n",
       "mean       2.307212\n",
       "std       17.548075\n",
       "min      -43.390000\n",
       "25%       -7.260000\n",
       "50%        4.000000\n",
       "75%       16.110000\n",
       "max       29.000000\n",
       "Name: Max Temp, dtype: float64"
      ]
     },
     "execution_count": 61,
     "metadata": {},
     "output_type": "execute_result"
    }
   ],
   "source": [
    "northern_hemi[\"Max Temp\"].describe()"
   ]
  },
  {
   "cell_type": "markdown",
   "metadata": {},
   "source": [
    "####  Northern Hemisphere - Max Temp vs. Latitude Linear Regression"
   ]
  },
  {
   "cell_type": "code",
   "execution_count": 36,
   "metadata": {},
   "outputs": [
    {
     "name": "stdout",
     "output_type": "stream",
     "text": [
      "The r-value is: 0.728\n"
     ]
    },
    {
     "data": {
      "image/png": "[encoded data removed]",
      "text/plain": [
       "<Figure size 432x288 with 1 Axes>"
      ]
     },
     "metadata": {
      "needs_background": "light"
     },
     "output_type": "display_data"
    }
   ],
   "source": [
    "x_values = northern_hemi[\"Latitude\"]\n",
    "y_values = northern_hemi[\"Max Temp\"]\n",
    "\n",
    "(slope, intercept, rvalue, pvalue, stderr) = st.linregress(x_values, y_values)\n",
    "regress_values = x_values * slope + intercept\n",
    "line_eq = \"y = \" + str(round(slope,2)) + \"x + \" + str(round(intercept,2))\n",
    "#print(line_eq)\n",
    "print(f\"The r-value is: {(rvalue**2).round(3)}\")\n",
    "\n",
    "plt.scatter(x_values,y_values)\n",
    "plt.plot(x_values,regress_values,\"r-\")\n",
    "plt.annotate(line_eq, (3,-10), fontsize=15, color=\"Red\")\n",
    "plt.xlabel(\"Latitude\")\n",
    "plt.ylabel(\"Max Temp (C)\")\n",
    "plt.title(f\"Northern Hemisphere City Latitude vs Max Temp {city_date}\")\n",
    "plt.savefig(\"../output_data/Northern Hemisphere City Latitude vs Max Temp\")"
   ]
  },
  {
   "cell_type": "markdown",
   "metadata": {},
   "source": [
    "####  Southern Hemisphere - Max Temp vs. Latitude Linear Regression"
   ]
  },
  {
   "cell_type": "code",
   "execution_count": 37,
   "metadata": {},
   "outputs": [
    {
     "name": "stdout",
     "output_type": "stream",
     "text": [
      "The r-value is: 0.164\n"
     ]
    },
    {
     "data": {
      "image/png": "[encoded data removed]",
      "text/plain": [
       "<Figure size 432x288 with 1 Axes>"
      ]
     },
     "metadata": {
      "needs_background": "light"
     },
     "output_type": "display_data"
    }
   ],
   "source": [
    "x_values = southern_hemi[\"Latitude\"]\n",
    "y_values = southern_hemi[\"Max Temp\"]\n",
    "\n",
    "(slope, intercept, rvalue, pvalue, stderr) = st.linregress(x_values, y_values)\n",
    "regress_values = x_values * slope + intercept\n",
    "correlartion_calculation = st.pearsonr(x_values, y_values)\n",
    "line_eq = \"y = \" + str(round(slope,2)) + \"x + \" + str(round(intercept,2))\n",
    "#print(line_eq)\n",
    "print(f\"The r-value is: {(rvalue**2).round(3)}\")\n",
    "\n",
    "plt.scatter(x_values, y_values)\n",
    "plt.plot(x_values,regress_values,\"r-\")\n",
    "plt.annotate(line_eq, (-35,10), fontsize=15, color=\"Red\")\n",
    "plt.xlabel(\"Latitude\")\n",
    "plt.ylabel(\"Max Temp (C)\")\n",
    "plt.title(f\"Southern Hemisphere City Latitude vs Max Temp {city_date}\")\n",
    "plt.savefig(\"../output_data/Southern Hemisphere City Latitude vs Max Temp\")"
   ]
  },
  {
   "cell_type": "markdown",
   "metadata": {},
   "source": [
    "####  Northern Hemisphere - Humidity (%) vs. Latitude Linear Regression"
   ]
  },
  {
   "cell_type": "code",
   "execution_count": 49,
   "metadata": {},
   "outputs": [
    {
     "name": "stdout",
     "output_type": "stream",
     "text": [
      "The r-value is: 0.126\n"
     ]
    },
    {
     "data": {
      "image/png": "[encoded data removed]",
      "text/plain": [
       "<Figure size 432x288 with 1 Axes>"
      ]
     },
     "metadata": {
      "needs_background": "light"
     },
     "output_type": "display_data"
    }
   ],
   "source": [
    "x_values = northern_hemi[\"Latitude\"]\n",
    "y_values = northern_hemi[\"Humidity\"]\n",
    "\n",
    "(slope, intercept, rvalue, pvalue, stderr) = st.linregress(x_values, y_values)\n",
    "regress_values = x_values * slope + intercept\n",
    "line_eq = \"y = \" + str(round(slope,2)) + \"x + \" + str(round(intercept,2))\n",
    "#print(line_eq)\n",
    "print(f\"The r-value is: {(rvalue**2).round(3)}\")\n",
    "\n",
    "plt.scatter(x_values,y_values)\n",
    "plt.plot(x_values,regress_values,\"r-\")\n",
    "plt.annotate(line_eq, (42,15), fontsize=15, color=\"Red\")\n",
    "plt.xlabel(\"Latitude\")\n",
    "plt.ylabel(\"Humidity (%)\")\n",
    "plt.title(f\"Northern Hemisphere - Humidity (%) vs. Latitude {city_date}\")\n",
    "plt.savefig(\"../output_data/Northern Hemisphere - Humidity (%) vs Latitude\")\n"
   ]
  },
  {
   "cell_type": "markdown",
   "metadata": {},
   "source": [
    "####  Southern Hemisphere - Humidity (%) vs. Latitude Linear Regression"
   ]
  },
  {
   "cell_type": "code",
   "execution_count": 50,
   "metadata": {},
   "outputs": [
    {
     "name": "stdout",
     "output_type": "stream",
     "text": [
      "The r-value is: 0.086\n"
     ]
    },
    {
     "data": {
      "image/png": "[encoded data removed]",
      "text/plain": [
       "<Figure size 432x288 with 1 Axes>"
      ]
     },
     "metadata": {
      "needs_background": "light"
     },
     "output_type": "display_data"
    }
   ],
   "source": [
    "x_values = southern_hemi[\"Latitude\"]\n",
    "y_values = southern_hemi[\"Humidity\"]\n",
    "\n",
    "(slope, intercept, rvalue, pvalue, stderr) = st.linregress(x_values, y_values)\n",
    "regress_values = x_values * slope + intercept\n",
    "correlartion_calculation = st.pearsonr(x_values, y_values)\n",
    "line_eq = \"y = \" + str(round(slope,2)) + \"x + \" + str(round(intercept,2))\n",
    "#print(line_eq)\n",
    "print(f\"The r-value is: {(rvalue**2).round(3)}\")\n",
    "\n",
    "plt.scatter(x_values, y_values)\n",
    "plt.plot(x_values,regress_values,\"r-\")\n",
    "plt.annotate(line_eq, (-55,30), fontsize=15, color=\"Red\")\n",
    "plt.xlabel(\"Latitude\")\n",
    "plt.ylabel(\"Humidity (%)\")\n",
    "plt.title(f\"Southern Hemisphere Humidity (%) vs. Latitude {city_date}\")\n",
    "plt.savefig(\"../output_data/Southern Hemisphere Humidity (%) vs Latitude\")"
   ]
  },
  {
   "cell_type": "markdown",
   "metadata": {},
   "source": [
    "####  Northern Hemisphere - Cloudiness (%) vs. Latitude Linear Regression"
   ]
  },
  {
   "cell_type": "code",
   "execution_count": 54,
   "metadata": {},
   "outputs": [
    {
     "name": "stdout",
     "output_type": "stream",
     "text": [
      "The r-value is: 0.068\n"
     ]
    },
    {
     "data": {
      "image/png": "[encoded data removed]",
      "text/plain": [
       "<Figure size 432x288 with 1 Axes>"
      ]
     },
     "metadata": {
      "needs_background": "light"
     },
     "output_type": "display_data"
    }
   ],
   "source": [
    "x_values = northern_hemi[\"Latitude\"]\n",
    "y_values = northern_hemi[\"Cloudiness\"]\n",
    "\n",
    "(slope, intercept, rvalue, pvalue, stderr) = st.linregress(x_values, y_values)\n",
    "regress_values = x_values * slope + intercept\n",
    "line_eq = \"y = \" + str(round(slope,2)) + \"x + \" + str(round(intercept,2))\n",
    "#print(line_eq)\n",
    "print(f\"The r-value is: {(rvalue**2).round(3)}\")\n",
    "\n",
    "plt.scatter(x_values,y_values)\n",
    "plt.plot(x_values,regress_values,\"r-\")\n",
    "plt.annotate(line_eq, (8,80), fontsize=15, color=\"Red\")\n",
    "plt.xlabel(\"Latitude\")\n",
    "plt.ylabel(\"Cloudiness (%\")\n",
    "plt.title(f\"Northern Hemisphere - Cloudiness (%) vs. Latitude {city_date}\")\n",
    "plt.savefig(\"../output_data/Northern Hemisphere - Cloudiness (%) vs Latitude\")"
   ]
  },
  {
   "cell_type": "markdown",
   "metadata": {},
   "source": [
    "####  Southern Hemisphere - Cloudiness (%) vs. Latitude Linear Regression"
   ]
  },
  {
   "cell_type": "code",
   "execution_count": 55,
   "metadata": {},
   "outputs": [
    {
     "name": "stdout",
     "output_type": "stream",
     "text": [
      "The r-value is: 0.149\n"
     ]
    },
    {
     "data": {
      "image/png": "[encoded data removed]",
      "text/plain": [
       "<Figure size 432x288 with 1 Axes>"
      ]
     },
     "metadata": {
      "needs_background": "light"
     },
     "output_type": "display_data"
    }
   ],
   "source": [
    "x_values = southern_hemi[\"Latitude\"]\n",
    "y_values = southern_hemi[\"Cloudiness\"]\n",
    "\n",
    "(slope, intercept, rvalue, pvalue, stderr) = st.linregress(x_values, y_values)\n",
    "regress_values = x_values * slope + intercept\n",
    "correlartion_calculation = st.pearsonr(x_values, y_values)\n",
    "line_eq = \"y = \" + str(round(slope,2)) + \"x + \" + str(round(intercept,2))\n",
    "#print(line_eq)\n",
    "print(f\"The r-value is: {(rvalue**2).round(3)}\")\n",
    "\n",
    "plt.scatter(x_values, y_values)\n",
    "plt.plot(x_values,regress_values,\"r-\")\n",
    "plt.annotate(line_eq, (-50,55), fontsize=15, color=\"Red\")\n",
    "plt.xlabel(\"Latitude\")\n",
    "plt.ylabel(\"Cloudiness\")\n",
    "plt.title(f\"Southern Hemisphere - Cloudiness (%) vs. Latitude {city_date}\")\n",
    "plt.savefig(\"../output_data/Southern Hemisphere - Cloudiness (%) vs Latitude\")"
   ]
  },
  {
   "cell_type": "markdown",
   "metadata": {},
   "source": [
    "####  Northern Hemisphere - Wind Speed (mph) vs. Latitude Linear Regression"
   ]
  },
  {
   "cell_type": "code",
   "execution_count": 45,
   "metadata": {},
   "outputs": [
    {
     "name": "stdout",
     "output_type": "stream",
     "text": [
      "The r-value is: 0.0127\n"
     ]
    },
    {
     "data": {
      "image/png": "[encoded data removed]",
      "text/plain": [
       "<Figure size 432x288 with 1 Axes>"
      ]
     },
     "metadata": {
      "needs_background": "light"
     },
     "output_type": "display_data"
    }
   ],
   "source": [
    "x_values = northern_hemi[\"Latitude\"]\n",
    "y_values = northern_hemi[\"Wind Speed\"]\n",
    "\n",
    "(slope, intercept, rvalue, pvalue, stderr) = st.linregress(x_values, y_values)\n",
    "regress_values = x_values * slope + intercept\n",
    "line_eq = \"y = \" + str(round(slope,2)) + \"x + \" + str(round(intercept,2))\n",
    "#print(line_eq)\n",
    "print(f\"The r-value is: {(rvalue**2).round(4)}\")\n",
    "\n",
    "plt.scatter(x_values,y_values)\n",
    "plt.plot(x_values,regress_values,\"r-\")\n",
    "plt.annotate(line_eq, (20,12), fontsize=15, color=\"Red\")\n",
    "plt.xlabel(\"Latitude\")\n",
    "plt.ylabel(\"Wind Speed (mph)\")\n",
    "plt.title(f\"Northern Hemisphere - Wind Speed (mph) vs. Latitude {city_date}\")\n",
    "plt.savefig(\"../output_data/Northern Hemisphere - Wind Speed (mph) vs Latitude\")"
   ]
  },
  {
   "cell_type": "markdown",
   "metadata": {},
   "source": [
    "####  Southern Hemisphere - Wind Speed (mph) vs. Latitude Linear Regression"
   ]
  },
  {
   "cell_type": "code",
   "execution_count": 47,
   "metadata": {},
   "outputs": [
    {
     "name": "stdout",
     "output_type": "stream",
     "text": [
      "The r-value is: 0.08\n"
     ]
    },
    {
     "data": {
      "image/png": "[encoded data removed]",
      "text/plain": [
       "<Figure size 432x288 with 1 Axes>"
      ]
     },
     "metadata": {
      "needs_background": "light"
     },
     "output_type": "display_data"
    }
   ],
   "source": [
    "x_values = southern_hemi[\"Latitude\"]\n",
    "y_values = southern_hemi[\"Wind Speed\"]\n",
    "\n",
    "(slope, intercept, rvalue, pvalue, stderr) = st.linregress(x_values, y_values)\n",
    "regress_values = x_values * slope + intercept\n",
    "correlartion_calculation = st.pearsonr(x_values, y_values)\n",
    "line_eq = \"y = \" + str(round(slope,2)) + \"x + \" + str(round(intercept,2))\n",
    "#print(line_eq)\n",
    "print(f\"The r-value is: {(rvalue**2).round(3)}\")\n",
    "\n",
    "plt.scatter(x_values, y_values)\n",
    "plt.plot(x_values,regress_values,\"r-\")\n",
    "plt.annotate(line_eq, (-50,8), fontsize=15, color=\"Red\")\n",
    "plt.xlabel(\"Latitude\")\n",
    "plt.ylabel(\"Wind Speed\")\n",
    "plt.title(f\"Southern Hemisphere - Wind Speed (mph) vs. Latitude {city_date}\")\n",
    "plt.savefig(\"../output_data/Southern Hemisphere - Wind Speed (mph) vs Latitude\")"
   ]
  },
  {
   "cell_type": "code",
   "execution_count": null,
   "metadata": {},
   "outputs": [],
   "source": []
  }
 ],
 "metadata": {
  "anaconda-cloud": {},
  "kernel_info": {
   "name": "python3"
  },
  "kernelspec": {
   "display_name": "Python [conda env:Pythondata]",
   "language": "python",
   "name": "conda-env-Pythondata-py"
  },
  "language_info": {
   "codemirror_mode": {
    "name": "ipython",
    "version": 3
   },
   "file_extension": ".py",
   "mimetype": "text/x-python",
   "name": "python",
   "nbconvert_exporter": "python",
   "pygments_lexer": "ipython3",
   "version": "3.8.5"
  },
  "latex_envs": {
   "LaTeX_envs_menu_present": true,
   "autoclose": false,
   "autocomplete": true,
   "bibliofile": "biblio.bib",
   "cite_by": "apalike",
   "current_citInitial": 1,
   "eqLabelWithNumbers": true,
   "eqNumInitial": 1,
   "hotkeys": {
    "equation": "Ctrl-E",
    "itemize": "Ctrl-I"
   },
   "labels_anchors": false,
   "latex_user_defs": false,
   "report_style_numbering": false,
   "user_envs_cfg": false
  },
  "nteract": {
   "version": "0.12.3"
  }
 },
 "nbformat": 4,
 "nbformat_minor": 2
}
